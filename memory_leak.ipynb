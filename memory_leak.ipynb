{
 "cells": [
  {
   "cell_type": "code",
   "execution_count": 18,
   "metadata": {},
   "outputs": [],
   "source": [
    "import mysql.connector\n",
    "import os\n",
    "import pandas as pd\n",
    "import numpy as np\n",
    "from itertools import islice\n",
    "import tracemalloc\n",
    "import seaborn as sns\n",
    "import matplotlib.pyplot as plt\n",
    "%matplotlib inline"
   ]
  },
  {
   "cell_type": "code",
   "execution_count": 19,
   "metadata": {},
   "outputs": [],
   "source": [
    "# Begin tracking memory allocation\n",
    "tracemalloc.start()"
   ]
  },
  {
   "cell_type": "code",
   "execution_count": 20,
   "metadata": {},
   "outputs": [],
   "source": [
    "# Connection info\n",
    "host = os.environ[\"UAT_host\"]\n",
    "db = os.environ[\"UAT_db\"]\n",
    "port = 3306\n",
    "user = os.environ[\"UAT_write_user\"]\n",
    "password = os.environ[\"UAT_write_password\"]"
   ]
  },
  {
   "cell_type": "code",
   "execution_count": 21,
   "metadata": {},
   "outputs": [],
   "source": [
    "# Open connection\n",
    "db_conn = mysql.connector.connect(host=host, db=db, port=port, user=user,\n",
    "                                  passwd=password)\n",
    "crsr = db_conn.cursor()"
   ]
  },
  {
   "cell_type": "code",
   "execution_count": 22,
   "metadata": {},
   "outputs": [],
   "source": [
    "# Drop/create table\n",
    "create_table = \"\"\"\n",
    "CREATE TABLE test_connector (\n",
    "    col_0   INT PRIMARY KEY,\n",
    "    col_1   FLOAT,\n",
    "    col_2   FLOAT,\n",
    "    col_3   FLOAT,\n",
    "    col_4   FLOAT,\n",
    "    col_5   FLOAT,\n",
    "    col_6   FLOAT,\n",
    "    col_7   FLOAT,\n",
    "    col_8   FLOAT,\n",
    "    col_9   FLOAT\n",
    ");\n",
    "\"\"\"\n",
    "crsr.execute(\"DROP TABLE IF EXISTS test_connector;\")\n",
    "crsr.execute(create_table)"
   ]
  },
  {
   "cell_type": "code",
   "execution_count": 23,
   "metadata": {},
   "outputs": [],
   "source": [
    "# Set a rollback point\n",
    "crsr.execute(\"START TRANSACTION;\")"
   ]
  },
  {
   "cell_type": "code",
   "execution_count": 24,
   "metadata": {},
   "outputs": [],
   "source": [
    "# Build a dataframe of 100,000 entries\n",
    "size = 100000\n",
    "df = pd.DataFrame(data={\n",
    "    f\"col_{x}\": np.random.random(size) for x in range(1, 10)\n",
    "})\n",
    "df = df.reset_index().rename(columns={\"index\": \"col_0\"})\n",
    "columns = list(df.columns)"
   ]
  },
  {
   "cell_type": "code",
   "execution_count": 25,
   "metadata": {},
   "outputs": [],
   "source": [
    "def grouper(n, iterable):\n",
    "    \"\"\"Yields an iterable in chunks of even size, with the last chunk\n",
    "    containing whatever is left.\"\"\"\n",
    "    it = iter(iterable)\n",
    "    while True:\n",
    "        chunk = tuple(islice(it, n))\n",
    "        if not chunk:\n",
    "            return\n",
    "        yield chunk"
   ]
  },
  {
   "cell_type": "code",
   "execution_count": 26,
   "metadata": {},
   "outputs": [],
   "source": [
    "# Prepare SQL Insert Statement\n",
    "field_values = ', '.join(columns)\n",
    "placeholders = f\"({', '.join(['%s' for _ in columns])})\"\n",
    "insert_statement = f\"\"\"\n",
    "INSERT INTO test_connector\n",
    "({field_values})\n",
    "VALUES {placeholders};\n",
    "\"\"\""
   ]
  },
  {
   "cell_type": "code",
   "execution_count": 27,
   "metadata": {},
   "outputs": [],
   "source": [
    "# Prepare to catch data\n",
    "target = \"mysql/connector/connection_cext.py\"\n",
    "target_line = 514\n",
    "results = []"
   ]
  },
  {
   "cell_type": "code",
   "execution_count": 28,
   "metadata": {},
   "outputs": [],
   "source": [
    "def snap_and_report(target, target_line, snapshot_name, verbose=True):\n",
    "    \"\"\"Function takes a snapshot of memory allocation and reports target \n",
    "    results\"\"\"\n",
    "    file_name = \"\"\n",
    "    line_number = 0\n",
    "    size = 0\n",
    "    size_in_mb = 0\n",
    "    count = 0\n",
    "    snapshot = tracemalloc.take_snapshot()\n",
    "    top_stats = snapshot.statistics('lineno')\n",
    "    for stat in top_stats:\n",
    "        frame = stat.traceback[0]\n",
    "        if target in frame.filename and frame.lineno == target_line:\n",
    "            file_name = os.sep.join(frame.filename.split(os.sep)[-3:])\n",
    "            line_number = frame.lineno\n",
    "            size = top_stats[0].size\n",
    "            size_in_mb = size / 1024 ** 2\n",
    "            count = top_stats[0].count\n",
    "            break\n",
    "    if verbose:\n",
    "        print(f\"snapshot: {snapshot_name}\")\n",
    "        print(f\"{file_name}:{line_number} | size={size_in_mb:3.2f} MiB \"\n",
    "              f\"| count={count}\")\n",
    "    return snapshot_name, file_name, line_number, size, count"
   ]
  },
  {
   "cell_type": "code",
   "execution_count": 29,
   "metadata": {},
   "outputs": [
    {
     "name": "stdout",
     "output_type": "stream",
     "text": [
      "snapshot: prior_to_inserts\n",
      "mysql/connector/connection_cext.py:514 | size=188.63 MiB | count=3000007\n",
      "snapshot: after_insert_1\n",
      "mysql/connector/connection_cext.py:514 | size=207.47 MiB | count=3300010\n",
      "snapshot: after_insert_2\n",
      "mysql/connector/connection_cext.py:514 | size=226.34 MiB | count=3600010\n",
      "snapshot: after_insert_3\n",
      "mysql/connector/connection_cext.py:514 | size=245.20 MiB | count=3900010\n",
      "snapshot: after_insert_4\n",
      "mysql/connector/connection_cext.py:514 | size=264.07 MiB | count=4200010\n",
      "snapshot: after_insert_5\n",
      "mysql/connector/connection_cext.py:514 | size=282.94 MiB | count=4500010\n",
      "snapshot: after_insert_6\n",
      "mysql/connector/connection_cext.py:514 | size=301.80 MiB | count=4800010\n",
      "snapshot: after_insert_7\n",
      "mysql/connector/connection_cext.py:514 | size=320.67 MiB | count=5100010\n",
      "snapshot: after_insert_8\n",
      "mysql/connector/connection_cext.py:514 | size=339.53 MiB | count=5400010\n",
      "snapshot: after_insert_9\n",
      "mysql/connector/connection_cext.py:514 | size=358.40 MiB | count=5700010\n",
      "snapshot: after_insert_10\n",
      "mysql/connector/connection_cext.py:514 | size=377.27 MiB | count=6000010\n"
     ]
    }
   ],
   "source": [
    "results.append(snap_and_report(target, target_line, \"prior_to_inserts\"))\n",
    "chunk_size = 10000\n",
    "for c, chunk in enumerate(grouper(chunk_size, df.itertuples(index=False)), 1):\n",
    "    values = [[getattr(row, col)\n",
    "               for col in columns]\n",
    "              for row in chunk]\n",
    "    snapshot0 = tracemalloc.take_snapshot()\n",
    "    crsr.executemany(insert_statement, values)\n",
    "    results.append(snap_and_report(target, target_line, f\"after_insert_{c}\"))"
   ]
  },
  {
   "cell_type": "code",
   "execution_count": 30,
   "metadata": {},
   "outputs": [
    {
     "name": "stdout",
     "output_type": "stream",
     "text": [
      "snapshot: after_commit\n",
      "mysql/connector/connection_cext.py:514 | size=377.27 MiB | count=6000009\n"
     ]
    }
   ],
   "source": [
    "# Commit\n",
    "crsr.execute(\"COMMIT;\")\n",
    "results.append(snap_and_report(target, target_line, f\"after_commit\"))"
   ]
  },
  {
   "cell_type": "code",
   "execution_count": 31,
   "metadata": {},
   "outputs": [
    {
     "name": "stdout",
     "output_type": "stream",
     "text": [
      "snapshot: after_cursor_close\n",
      "mysql/connector/connection_cext.py:514 | size=377.27 MiB | count=6000007\n"
     ]
    }
   ],
   "source": [
    "# Close Cursor\n",
    "crsr.close()\n",
    "results.append(snap_and_report(target, target_line, f\"after_cursor_close\"))"
   ]
  },
  {
   "cell_type": "code",
   "execution_count": 32,
   "metadata": {},
   "outputs": [
    {
     "name": "stdout",
     "output_type": "stream",
     "text": [
      "snapshot: after_connection_close\n",
      "mysql/connector/connection_cext.py:514 | size=377.27 MiB | count=6000007\n"
     ]
    }
   ],
   "source": [
    "# Close connection\n",
    "db_conn.close()\n",
    "results.append(snap_and_report(target, target_line, f\"after_connection_close\"))"
   ]
  },
  {
   "cell_type": "code",
   "execution_count": 33,
   "metadata": {},
   "outputs": [
    {
     "name": "stdout",
     "output_type": "stream",
     "text": [
      "snapshot: after_del_connection\n",
      "mysql/connector/connection_cext.py:514 | size=377.27 MiB | count=6000007\n"
     ]
    }
   ],
   "source": [
    "# Del connection\n",
    "del db_conn\n",
    "results.append(snap_and_report(target, target_line, f\"after_del_connection\"))"
   ]
  },
  {
   "cell_type": "code",
   "execution_count": 34,
   "metadata": {},
   "outputs": [
    {
     "data": {
      "image/png": "[encoded data removed]",
      "text/plain": [
       "<Figure size 432x288 with 1 Axes>"
      ]
     },
     "metadata": {
      "needs_background": "light"
     },
     "output_type": "display_data"
    }
   ],
   "source": [
    "# Plot Results\n",
    "results_df = pd.DataFrame(results, \n",
    "                          columns=[\"action\", \"file_name\",\n",
    "                                   \"line_number\", \"size\", \"count\"])\n",
    "results_df[\"size_in_mib\"] = results_df[\"size\"] / 1024 **2\n",
    "results_df[\"action_number\"] = results_df.index\n",
    "\n",
    "sns.lineplot(x=\"action_number\", y=\"size_in_mib\",\n",
    "             data=results_df.loc[results_df[\"action\"].str.contains(\n",
    "                 \"after_insert_\")])\n",
    "plt.title(\"Memory Overflow in connection_cext\")\n",
    "plt.xlabel(\"Insert Number\")\n",
    "plt.ylabel(\"Size of connection_cext result (in MiB)\")\n",
    "plt.show()"
   ]
  }
 ],
 "metadata": {
  "kernelspec": {
   "display_name": "Python 3",
   "language": "python",
   "name": "python3"
  },
  "language_info": {
   "codemirror_mode": {
    "name": "ipython",
    "version": 3
   },
   "file_extension": ".py",
   "mimetype": "text/x-python",
   "name": "python",
   "nbconvert_exporter": "python",
   "pygments_lexer": "ipython3",
   "version": "3.6.5"
  }
 },
 "nbformat": 4,
 "nbformat_minor": 1
}
