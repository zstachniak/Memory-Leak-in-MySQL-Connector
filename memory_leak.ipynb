{
 "cells": [
  {
   "cell_type": "code",
   "execution_count": 2,
   "metadata": {
    "collapsed": true
   },
   "outputs": [],
   "source": [
    "import mysql.connector\n",
    "import os\n",
    "import pandas as pd\n",
    "import numpy as np\n",
    "from itertools import islice\n",
    "import tracemalloc\n",
    "import seaborn as sns\n",
    "import matplotlib.pyplot as plt\n",
    "%matplotlib inline"
   ]
  },
  {
   "cell_type": "code",
   "execution_count": null,
   "metadata": {},
   "outputs": [],
   "source": [
    "# Begin tracking memory allocation\n",
    "tracemalloc.start()"
   ]
  },
  {
   "cell_type": "code",
   "execution_count": null,
   "metadata": {},
   "outputs": [],
   "source": [
    "# Connection info\n",
    "host = os.environ[\"UAT_host\"]\n",
    "db = os.environ[\"UAT_db\"]\n",
    "port = 3306\n",
    "user = os.environ[\"UAT_write_user\"]\n",
    "password = os.environ[\"UAT_write_password\"]"
   ]
  },
  {
   "cell_type": "code",
   "execution_count": null,
   "metadata": {},
   "outputs": [],
   "source": [
    "# Open connection\n",
    "db_conn = mysql.connector.connect(host=host, db=db, port=port, user=user,\n",
    "                                  passwd=password)\n",
    "crsr = db_conn.cursor()"
   ]
  },
  {
   "cell_type": "code",
   "execution_count": null,
   "metadata": {},
   "outputs": [],
   "source": [
    "# Drop/create table\n",
    "create_table = \"\"\"\n",
    "CREATE TABLE test_connector (\n",
    "    col_0   INT PRIMARY KEY,\n",
    "    col_1   FLOAT,\n",
    "    col_2   FLOAT,\n",
    "    col_3   FLOAT,\n",
    "    col_4   FLOAT,\n",
    "    col_5   FLOAT,\n",
    "    col_6   FLOAT,\n",
    "    col_7   FLOAT,\n",
    "    col_8   FLOAT,\n",
    "    col_9   FLOAT\n",
    ");\n",
    "\"\"\"\n",
    "crsr.execute(\"DROP TABLE IF EXISTS test_connector;\")\n",
    "crsr.execute(create_table)"
   ]
  },
  {
   "cell_type": "code",
   "execution_count": null,
   "metadata": {},
   "outputs": [],
   "source": [
    "# Set a rollback point\n",
    "crsr.execute(\"START TRANSACTION;\")"
   ]
  },
  {
   "cell_type": "code",
   "execution_count": null,
   "metadata": {},
   "outputs": [],
   "source": [
    "# Build a dataframe of 100,000 entries\n",
    "size = 100000\n",
    "df = pd.DataFrame(data={\n",
    "    f\"col_{x}\": np.random.random(size) for x in range(1, 10)\n",
    "})\n",
    "df = df.reset_index().rename(columns={\"index\": \"col_0\"})\n",
    "columns = list(df.columns)"
   ]
  },
  {
   "cell_type": "code",
   "execution_count": null,
   "metadata": {},
   "outputs": [],
   "source": [
    "def grouper(n, iterable):\n",
    "    \"\"\"Yields an iterable in chunks of even size, with the last chunk\n",
    "    containing whatever is left.\"\"\"\n",
    "    it = iter(iterable)\n",
    "    while True:\n",
    "        chunk = tuple(islice(it, n))\n",
    "        if not chunk:\n",
    "            return\n",
    "        yield chunk"
   ]
  },
  {
   "cell_type": "code",
   "execution_count": null,
   "metadata": {},
   "outputs": [],
   "source": [
    "# Prepare SQL Insert Statement\n",
    "field_values = ', '.join(columns)\n",
    "placeholders = f\"({', '.join(['%s' for _ in columns])})\"\n",
    "insert_statement = f\"\"\"\n",
    "INSERT INTO test_connector\n",
    "({field_values})\n",
    "VALUES {placeholders};\n",
    "\"\"\""
   ]
  },
  {
   "cell_type": "code",
   "execution_count": null,
   "metadata": {},
   "outputs": [],
   "source": [
    "# Prepare to catch data\n",
    "target = \"mysql/connector/connection_cext.py\"\n",
    "target_line = 514\n",
    "results = []"
   ]
  },
  {
   "cell_type": "code",
   "execution_count": null,
   "metadata": {},
   "outputs": [],
   "source": [
    "def snap_and_report(target, target_line, snapshot_name, verbose=True):\n",
    "    \"\"\"Function takes a snapshot of memory allocation and reports target \n",
    "    results\"\"\"\n",
    "    file_name = \"\"\n",
    "    line_number = 0\n",
    "    size = 0\n",
    "    size_in_mb = 0\n",
    "    count = 0\n",
    "    snapshot = tracemalloc.take_snapshot()\n",
    "    top_stats = snapshot.statistics('lineno')\n",
    "    for stat in top_stats:\n",
    "        frame = stat.traceback[0]\n",
    "        if target in frame.filename and frame.lineno == target_line:\n",
    "            file_name = os.sep.join(frame.filename.split(os.sep)[-3:])\n",
    "            line_number = frame.lineno\n",
    "            size = top_stats[0].size\n",
    "            size_in_mb = size / 1024 ** 2\n",
    "            count = top_stats[0].count\n",
    "            break\n",
    "    if verbose:\n",
    "        print(f\"snapshot: {snapshot_name}\")\n",
    "        print(f\"{file_name}:{line_number} | size={size_in_mb:3.2f} MiB \"\n",
    "              f\"| count={count}\")\n",
    "    return snapshot_name, file_name, line_number, size, count"
   ]
  },
  {
   "cell_type": "code",
   "execution_count": 1,
   "metadata": {},
   "outputs": [
    {
     "ename": "NameError",
     "evalue": "name 'results' is not defined",
     "output_type": "error",
     "traceback": [
      "\u001b[0;31m---------------------------------------------------------------------------\u001b[0m",
      "\u001b[0;31mNameError\u001b[0m                                 Traceback (most recent call last)",
      "\u001b[0;32m<ipython-input-1-dd49d371d415>\u001b[0m in \u001b[0;36m<module>\u001b[0;34m()\u001b[0m\n\u001b[0;32m----> 1\u001b[0;31m \u001b[0mresults\u001b[0m\u001b[0;34m.\u001b[0m\u001b[0mappend\u001b[0m\u001b[0;34m(\u001b[0m\u001b[0msnap_and_report\u001b[0m\u001b[0;34m(\u001b[0m\u001b[0mtarget\u001b[0m\u001b[0;34m,\u001b[0m \u001b[0mtarget_line\u001b[0m\u001b[0;34m,\u001b[0m \u001b[0;34m\"prior_to_inserts\"\u001b[0m\u001b[0;34m)\u001b[0m\u001b[0;34m)\u001b[0m\u001b[0;34m\u001b[0m\u001b[0;34m\u001b[0m\u001b[0m\n\u001b[0m\u001b[1;32m      2\u001b[0m \u001b[0mchunk_size\u001b[0m \u001b[0;34m=\u001b[0m \u001b[0;36m10000\u001b[0m\u001b[0;34m\u001b[0m\u001b[0;34m\u001b[0m\u001b[0m\n\u001b[1;32m      3\u001b[0m \u001b[0;32mfor\u001b[0m \u001b[0mc\u001b[0m\u001b[0;34m,\u001b[0m \u001b[0mchunk\u001b[0m \u001b[0;32min\u001b[0m \u001b[0menumerate\u001b[0m\u001b[0;34m(\u001b[0m\u001b[0mgrouper\u001b[0m\u001b[0;34m(\u001b[0m\u001b[0mchunk_size\u001b[0m\u001b[0;34m,\u001b[0m \u001b[0mdf\u001b[0m\u001b[0;34m.\u001b[0m\u001b[0mitertuples\u001b[0m\u001b[0;34m(\u001b[0m\u001b[0mindex\u001b[0m\u001b[0;34m=\u001b[0m\u001b[0;32mFalse\u001b[0m\u001b[0;34m)\u001b[0m\u001b[0;34m)\u001b[0m\u001b[0;34m,\u001b[0m \u001b[0;36m1\u001b[0m\u001b[0;34m)\u001b[0m\u001b[0;34m:\u001b[0m\u001b[0;34m\u001b[0m\u001b[0;34m\u001b[0m\u001b[0m\n\u001b[1;32m      4\u001b[0m     values = [[getattr(row, col)\n\u001b[1;32m      5\u001b[0m                for col in columns]\n",
      "\u001b[0;31mNameError\u001b[0m: name 'results' is not defined"
     ]
    }
   ],
   "source": [
    "results.append(snap_and_report(target, target_line, \"prior_to_inserts\"))\n",
    "chunk_size = 10000\n",
    "for c, chunk in enumerate(grouper(chunk_size, df.itertuples(index=False)), 1):\n",
    "    values = [[getattr(row, col)\n",
    "               for col in columns]\n",
    "              for row in chunk]\n",
    "    snapshot0 = tracemalloc.take_snapshot()\n",
    "    crsr.executemany(insert_statement, values)\n",
    "    results.append(snap_and_report(target, target_line, f\"after_insert_{c}\"))"
   ]
  },
  {
   "cell_type": "code",
   "execution_count": null,
   "metadata": {},
   "outputs": [],
   "source": [
    "# Commit\n",
    "crsr.execute(\"COMMIT;\")\n",
    "results.append(snap_and_report(target, target_line, f\"after_commit\"))"
   ]
  },
  {
   "cell_type": "code",
   "execution_count": null,
   "metadata": {},
   "outputs": [],
   "source": [
    "# Close Cursor\n",
    "crsr.close()\n",
    "results.append(snap_and_report(target, target_line, f\"after_cursor_close\"))"
   ]
  },
  {
   "cell_type": "code",
   "execution_count": null,
   "metadata": {},
   "outputs": [],
   "source": [
    "# Close connection\n",
    "db_conn.close()\n",
    "results.append(snap_and_report(target, target_line, f\"after_connection_close\"))"
   ]
  },
  {
   "cell_type": "code",
   "execution_count": null,
   "metadata": {},
   "outputs": [],
   "source": [
    "# Del connection\n",
    "del db_conn\n",
    "results.append(snap_and_report(target, target_line, f\"after_del_connection\"))"
   ]
  },
  {
   "cell_type": "code",
   "execution_count": null,
   "metadata": {},
   "outputs": [],
   "source": [
    "# Plot Results\n",
    "results_df = pd.DataFrame(results, \n",
    "                          columns=[\"action\", \"file_name\",\n",
    "                                   \"line_number\", \"size\", \"count\"])\n",
    "results_df[\"size_in_mib\"] = results_df[\"size\"] / 1024 **2\n",
    "results_df[\"action_number\"] = results_df.index\n",
    "\n",
    "sns.lineplot(x=\"action_number\", y=\"size_in_mib\",\n",
    "             data=results_df.loc[results_df[\"action\"].str.contains(\n",
    "                 \"after_insert_\")])\n",
    "plt.title(\"Memory Overflow in connection_cext\")\n",
    "plt.xlabel(\"Insert Number\")\n",
    "plt.ylabel(\"Size of connection_cext result (in MiB)\")\n",
    "plt.show()"
   ]
  }
 ],
 "metadata": {
  "kernelspec": {
   "display_name": "Python 2",
   "language": "python",
   "name": "python2"
  },
  "language_info": {
   "codemirror_mode": {
    "name": "ipython",
    "version": 2
   },
   "file_extension": ".py",
   "mimetype": "text/x-python",
   "name": "python",
   "nbconvert_exporter": "python",
   "pygments_lexer": "ipython2",
   "version": "2.7.6"
  }
 },
 "nbformat": 4,
 "nbformat_minor": 0
}
